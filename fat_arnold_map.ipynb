{
 "cells": [
  {
   "cell_type": "code",
   "execution_count": 1,
   "id": "c3048b89-e1b1-4ed7-9375-594b63f381d6",
   "metadata": {},
   "outputs": [],
   "source": [
    "%matplotlib inline\n",
    "from ipywidgets import interactive, fixed"
   ]
  },
  {
   "cell_type": "code",
   "execution_count": 5,
   "id": "a087d4a2-1c46-4a25-abb5-c076701beb80",
   "metadata": {},
   "outputs": [
    {
     "data": {
      "application/vnd.jupyter.widget-view+json": {
       "model_id": "ea1b24c466c448af8890c6affa9b4fdc",
       "version_major": 2,
       "version_minor": 0
      },
      "text/plain": [
       "interactive(children=(FloatSlider(value=1.0, description='a', max=1.0, min=-1.0), FloatSlider(value=0.5, descr…"
      ]
     },
     "metadata": {},
     "output_type": "display_data"
    }
   ],
   "source": [
    "from arnold_map import plot_2d_phase_portrait as pp\n",
    "w=interactive(pp, a=(-1.0,1.0), k=(0.0,1.0), T_osc=(0.0,48.0), tau_0=(0.0,48.0),t_0_min=(-1.0,10.0), t_0_max=(10.0,30.0), t_0_step=(0.1,1.0),T_0_min=(-1.0,10.0), T_0_max=(10.0,30.0), T_0_step=(0.1,1.0), n_f= 1000)\n",
    "w"
   ]
  }
 ],
 "metadata": {
  "kernelspec": {
   "display_name": "Python 3",
   "language": "python",
   "name": "python3"
  },
  "language_info": {
   "codemirror_mode": {
    "name": "ipython",
    "version": 3
   },
   "file_extension": ".py",
   "mimetype": "text/x-python",
   "name": "python",
   "nbconvert_exporter": "python",
   "pygments_lexer": "ipython3",
   "version": "3.7.8"
  }
 },
 "nbformat": 4,
 "nbformat_minor": 5
}
